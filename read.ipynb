{
 "cells": [
  {
   "cell_type": "code",
   "execution_count": 12,
   "metadata": {},
   "outputs": [],
   "source": [
    "# read test.xyz using pymatgen ase\n",
    "# https://wiki.fysik.dtu.dk/ase/ase/neb.html\n",
    "from pymatgen.io.ase import AseAtomsAdaptor\n",
    "from ase.io import read\n",
    "\n",
    "# read the structure\n",
    "atoms = read('test.xyz')\n",
    "\n",
    "\n"
   ]
  },
  {
   "cell_type": "code",
   "execution_count": 2,
   "metadata": {},
   "outputs": [
    {
     "data": {
      "text/plain": [
       "Atoms(symbols='Mo64S126Se', pbc=True, cell=[[25.5225256, 0.0, 1.5628039641098191e-15], [-12.761262799999994, 22.10315553833868, 1.5628039641098191e-15], [0.0, 0.0, 14.879004]])"
      ]
     },
     "execution_count": 2,
     "metadata": {},
     "output_type": "execute_result"
    }
   ],
   "source": [
    "atoms"
   ]
  },
  {
   "cell_type": "code",
   "execution_count": 3,
   "metadata": {},
   "outputs": [
    {
     "data": {
      "text/plain": [
       "<Popen: returncode: None args: ['/Users/andrey/micromamba/envs/m3gnet/bin/py...>"
      ]
     },
     "execution_count": 3,
     "metadata": {},
     "output_type": "execute_result"
    }
   ],
   "source": [
    "# visualize the structure\n",
    "from ase.visualize import view\n",
    "view(atoms)\n"
   ]
  },
  {
   "cell_type": "code",
   "execution_count": 4,
   "metadata": {},
   "outputs": [],
   "source": [
    "from m3gnet.models import M3GNet, M3GNetCalculator, Potential"
   ]
  },
  {
   "cell_type": "code",
   "execution_count": 5,
   "metadata": {},
   "outputs": [],
   "source": [
    "model = M3GNet.load()"
   ]
  },
  {
   "cell_type": "code",
   "execution_count": 6,
   "metadata": {},
   "outputs": [],
   "source": [
    "calculator = M3GNetCalculator(potential=Potential(model))"
   ]
  },
  {
   "cell_type": "code",
   "execution_count": 14,
   "metadata": {},
   "outputs": [],
   "source": [
    "atoms.calc = calculator"
   ]
  },
  {
   "cell_type": "code",
   "execution_count": 9,
   "metadata": {},
   "outputs": [
    {
     "name": "stdout",
     "output_type": "stream",
     "text": [
      "WARNING:tensorflow:You are casting an input of type complex64 to an incompatible dtype float32.  This will discard the imaginary part and may not be what you intended.\n",
      "WARNING:tensorflow:You are casting an input of type complex64 to an incompatible dtype float32.  This will discard the imaginary part and may not be what you intended.\n",
      "WARNING:tensorflow:You are casting an input of type complex64 to an incompatible dtype float32.  This will discard the imaginary part and may not be what you intended.\n"
     ]
    },
    {
     "data": {
      "text/plain": [
       "-1381.7024"
      ]
     },
     "execution_count": 9,
     "metadata": {},
     "output_type": "execute_result"
    }
   ],
   "source": [
    "atoms.get_potential_energy()"
   ]
  },
  {
   "cell_type": "code",
   "execution_count": 11,
   "metadata": {},
   "outputs": [
    {
     "name": "stdout",
     "output_type": "stream",
     "text": [
      "      Step     Time          Energy         fmax\n",
      "BFGS:    0 16:29:47    -1381.702393        2.0345\n",
      "WARNING:tensorflow:You are casting an input of type complex64 to an incompatible dtype float32.  This will discard the imaginary part and may not be what you intended.\n",
      "WARNING:tensorflow:You are casting an input of type complex64 to an incompatible dtype float32.  This will discard the imaginary part and may not be what you intended.\n",
      "BFGS:    1 16:29:49    -1381.804443        1.3697\n",
      "BFGS:    2 16:29:49    -1381.911987        0.8062\n",
      "BFGS:    3 16:29:50    -1381.921021        0.3937\n",
      "BFGS:    4 16:29:50    -1381.935059        0.1575\n",
      "BFGS:    5 16:29:50    -1381.939941        0.1921\n",
      "BFGS:    6 16:29:51    -1381.947632        0.1958\n",
      "BFGS:    7 16:29:51    -1381.950439        0.1108\n",
      "BFGS:    8 16:29:51    -1381.952637        0.0875\n",
      "BFGS:    9 16:29:51    -1381.954590        0.0914\n",
      "BFGS:   10 16:29:52    -1381.956177        0.1362\n",
      "BFGS:   11 16:29:52    -1381.957520        0.1104\n",
      "BFGS:   12 16:29:52    -1381.958252        0.0457\n",
      "BFGS:   13 16:29:53    -1381.958984        0.0718\n",
      "BFGS:   14 16:29:53    -1381.960083        0.0955\n",
      "BFGS:   15 16:29:53    -1381.960815        0.0951\n",
      "BFGS:   16 16:29:54    -1381.961304        0.0507\n",
      "BFGS:   17 16:29:54    -1381.961670        0.0623\n",
      "BFGS:   18 16:29:54    -1381.962036        0.0561\n",
      "BFGS:   19 16:29:54    -1381.962402        0.0707\n",
      "BFGS:   20 16:29:55    -1381.962524        0.0450\n",
      "BFGS:   21 16:29:55    -1381.962891        0.0398\n",
      "BFGS:   22 16:29:55    -1381.962769        0.0460\n",
      "BFGS:   23 16:29:55    -1381.963135        0.0533\n",
      "BFGS:   24 16:29:56    -1381.963379        0.0396\n",
      "BFGS:   25 16:29:56    -1381.963379        0.0199\n",
      "BFGS:   26 16:29:56    -1381.963745        0.0295\n",
      "BFGS:   27 16:29:56    -1381.963989        0.0615\n",
      "BFGS:   28 16:29:57    -1381.963989        0.0811\n",
      "BFGS:   29 16:29:57    -1381.964111        0.0608\n",
      "BFGS:   30 16:29:57    -1381.964233        0.0189\n",
      "BFGS:   31 16:29:58    -1381.964355        0.0264\n",
      "BFGS:   32 16:29:58    -1381.964478        0.0353\n",
      "BFGS:   33 16:29:58    -1381.964600        0.0209\n",
      "BFGS:   34 16:29:59    -1381.964600        0.0144\n",
      "BFGS:   35 16:29:59    -1381.964722        0.0320\n",
      "BFGS:   36 16:29:59    -1381.964844        0.0341\n",
      "BFGS:   37 16:29:59    -1381.964844        0.0131\n",
      "BFGS:   38 16:30:00    -1381.964722        0.0109\n",
      "BFGS:   39 16:30:00    -1381.964844        0.0223\n",
      "BFGS:   40 16:30:00    -1381.964966        0.0179\n",
      "BFGS:   41 16:30:01    -1381.964844        0.0046\n"
     ]
    },
    {
     "data": {
      "text/plain": [
       "True"
      ]
     },
     "execution_count": 11,
     "metadata": {},
     "output_type": "execute_result"
    }
   ],
   "source": [
    "# relax the structure using ASE\n",
    "from ase.optimize import BFGS\n",
    "from ase.constraints import UnitCellFilter\n",
    "from ase.io import write\n",
    "\n",
    "# relax the structure\n",
    "relax = BFGS(UnitCellFilter(atoms))\n",
    "relax.run(fmax=0.01)\n"
   ]
  },
  {
   "cell_type": "code",
   "execution_count": 15,
   "metadata": {},
   "outputs": [
    {
     "name": "stdout",
     "output_type": "stream",
     "text": [
      "      Step     Time          Energy         fmax\n",
      "BFGS:    0 16:30:48    -1381.702393        2.0345\n",
      "BFGS:    1 16:30:49    -1381.804077        1.3646\n",
      "BFGS:    2 16:30:49    -1381.911865        0.3664\n",
      "BFGS:    3 16:30:49    -1381.925415        0.2045\n",
      "BFGS:    4 16:30:49    -1381.933350        0.2030\n",
      "BFGS:    5 16:30:50    -1381.941406        0.1405\n",
      "BFGS:    6 16:30:50    -1381.947144        0.0844\n",
      "BFGS:    7 16:30:50    -1381.950317        0.0962\n",
      "BFGS:    8 16:30:50    -1381.952393        0.0987\n",
      "BFGS:    9 16:30:51    -1381.954590        0.0800\n",
      "BFGS:   10 16:30:51    -1381.956299        0.0500\n"
     ]
    },
    {
     "data": {
      "text/plain": [
       "True"
      ]
     },
     "execution_count": 15,
     "metadata": {},
     "output_type": "execute_result"
    }
   ],
   "source": [
    "dyn = BFGS(atoms)\n",
    "dyn.run(fmax=0.05)"
   ]
  },
  {
   "cell_type": "code",
   "execution_count": 16,
   "metadata": {},
   "outputs": [
    {
     "data": {
      "text/plain": [
       "191"
      ]
     },
     "execution_count": 16,
     "metadata": {},
     "output_type": "execute_result"
    }
   ],
   "source": [
    "len(atoms)\n"
   ]
  },
  {
   "cell_type": "code",
   "execution_count": 17,
   "metadata": {},
   "outputs": [
    {
     "data": {
      "text/plain": [
       "['__add__',\n",
       " '__class__',\n",
       " '__delattr__',\n",
       " '__delitem__',\n",
       " '__dict__',\n",
       " '__dir__',\n",
       " '__doc__',\n",
       " '__eq__',\n",
       " '__format__',\n",
       " '__ge__',\n",
       " '__getattribute__',\n",
       " '__getitem__',\n",
       " '__gt__',\n",
       " '__hash__',\n",
       " '__iadd__',\n",
       " '__imul__',\n",
       " '__init__',\n",
       " '__init_subclass__',\n",
       " '__iter__',\n",
       " '__le__',\n",
       " '__len__',\n",
       " '__lt__',\n",
       " '__module__',\n",
       " '__mul__',\n",
       " '__ne__',\n",
       " '__new__',\n",
       " '__reduce__',\n",
       " '__reduce_ex__',\n",
       " '__repr__',\n",
       " '__setattr__',\n",
       " '__sizeof__',\n",
       " '__str__',\n",
       " '__subclasshook__',\n",
       " '__weakref__',\n",
       " '_ase_handles_dynamic_stress',\n",
       " '_calc',\n",
       " '_celldisp',\n",
       " '_cellobj',\n",
       " '_centering_as_array',\n",
       " '_constraints',\n",
       " '_del_constraints',\n",
       " '_get_atomic_numbers',\n",
       " '_get_constraints',\n",
       " '_get_positions',\n",
       " '_masked_rotate',\n",
       " '_pbc',\n",
       " '_set_positions',\n",
       " 'append',\n",
       " 'arrays',\n",
       " 'ase_objtype',\n",
       " 'calc',\n",
       " 'cell',\n",
       " 'center',\n",
       " 'constraints',\n",
       " 'copy',\n",
       " 'edit',\n",
       " 'euler_rotate',\n",
       " 'extend',\n",
       " 'fromdict',\n",
       " 'get_all_distances',\n",
       " 'get_angle',\n",
       " 'get_angles',\n",
       " 'get_angular_momentum',\n",
       " 'get_array',\n",
       " 'get_atomic_numbers',\n",
       " 'get_calculator',\n",
       " 'get_cell',\n",
       " 'get_cell_lengths_and_angles',\n",
       " 'get_celldisp',\n",
       " 'get_center_of_mass',\n",
       " 'get_charges',\n",
       " 'get_chemical_formula',\n",
       " 'get_chemical_symbols',\n",
       " 'get_dihedral',\n",
       " 'get_dihedrals',\n",
       " 'get_dipole_moment',\n",
       " 'get_distance',\n",
       " 'get_distances',\n",
       " 'get_forces',\n",
       " 'get_global_number_of_atoms',\n",
       " 'get_initial_charges',\n",
       " 'get_initial_magnetic_moments',\n",
       " 'get_kinetic_energy',\n",
       " 'get_magnetic_moment',\n",
       " 'get_magnetic_moments',\n",
       " 'get_masses',\n",
       " 'get_momenta',\n",
       " 'get_moments_of_inertia',\n",
       " 'get_number_of_atoms',\n",
       " 'get_pbc',\n",
       " 'get_positions',\n",
       " 'get_potential_energies',\n",
       " 'get_potential_energy',\n",
       " 'get_properties',\n",
       " 'get_reciprocal_cell',\n",
       " 'get_scaled_positions',\n",
       " 'get_stress',\n",
       " 'get_stresses',\n",
       " 'get_tags',\n",
       " 'get_temperature',\n",
       " 'get_total_energy',\n",
       " 'get_velocities',\n",
       " 'get_volume',\n",
       " 'has',\n",
       " 'info',\n",
       " 'iterimages',\n",
       " 'new_array',\n",
       " 'number_of_lattice_vectors',\n",
       " 'numbers',\n",
       " 'pbc',\n",
       " 'pop',\n",
       " 'positions',\n",
       " 'rattle',\n",
       " 'repeat',\n",
       " 'rotate',\n",
       " 'rotate_dihedral',\n",
       " 'set_angle',\n",
       " 'set_array',\n",
       " 'set_atomic_numbers',\n",
       " 'set_calculator',\n",
       " 'set_cell',\n",
       " 'set_celldisp',\n",
       " 'set_center_of_mass',\n",
       " 'set_chemical_symbols',\n",
       " 'set_constraint',\n",
       " 'set_dihedral',\n",
       " 'set_distance',\n",
       " 'set_initial_charges',\n",
       " 'set_initial_magnetic_moments',\n",
       " 'set_masses',\n",
       " 'set_momenta',\n",
       " 'set_pbc',\n",
       " 'set_positions',\n",
       " 'set_scaled_positions',\n",
       " 'set_tags',\n",
       " 'set_velocities',\n",
       " 'symbols',\n",
       " 'todict',\n",
       " 'translate',\n",
       " 'wrap',\n",
       " 'write']"
      ]
     },
     "execution_count": 17,
     "metadata": {},
     "output_type": "execute_result"
    }
   ],
   "source": [
    "dir(atoms)"
   ]
  },
  {
   "cell_type": "code",
   "execution_count": 24,
   "metadata": {},
   "outputs": [
    {
     "data": {
      "text/plain": [
       "['S',\n",
       " 'S',\n",
       " 'S',\n",
       " 'S',\n",
       " 'S',\n",
       " 'S',\n",
       " 'S',\n",
       " 'S',\n",
       " 'S',\n",
       " 'S',\n",
       " 'S',\n",
       " 'S',\n",
       " 'S',\n",
       " 'S',\n",
       " 'S',\n",
       " 'S',\n",
       " 'S',\n",
       " 'S',\n",
       " 'S',\n",
       " 'S',\n",
       " 'S',\n",
       " 'S',\n",
       " 'S',\n",
       " 'S',\n",
       " 'S',\n",
       " 'S',\n",
       " 'S',\n",
       " 'S',\n",
       " 'S',\n",
       " 'S',\n",
       " 'S',\n",
       " 'S',\n",
       " 'S',\n",
       " 'S',\n",
       " 'S',\n",
       " 'S',\n",
       " 'S',\n",
       " 'S',\n",
       " 'S',\n",
       " 'S',\n",
       " 'S',\n",
       " 'S',\n",
       " 'S',\n",
       " 'S',\n",
       " 'S',\n",
       " 'S',\n",
       " 'S',\n",
       " 'S',\n",
       " 'S',\n",
       " 'S',\n",
       " 'S',\n",
       " 'S',\n",
       " 'S',\n",
       " 'S',\n",
       " 'S',\n",
       " 'S',\n",
       " 'S',\n",
       " 'S',\n",
       " 'S',\n",
       " 'S',\n",
       " 'S',\n",
       " 'S',\n",
       " 'S',\n",
       " 'S',\n",
       " 'S']"
      ]
     },
     "execution_count": 24,
     "metadata": {},
     "output_type": "execute_result"
    }
   ],
   "source": [
    "atoms.get_chemical_symbols()[126:]"
   ]
  },
  {
   "cell_type": "code",
   "execution_count": 21,
   "metadata": {},
   "outputs": [
    {
     "data": {
      "text/plain": [
       "Counter({'S': 126, 'Mo': 64, 'Se': 1})"
      ]
     },
     "execution_count": 21,
     "metadata": {},
     "output_type": "execute_result"
    }
   ],
   "source": [
    "# count the number of atoms of each species\n",
    "from collections import Counter \n",
    "Counter(atoms.get_chemical_symbols())\n"
   ]
  },
  {
   "cell_type": "code",
   "execution_count": 70,
   "metadata": {},
   "outputs": [
    {
     "data": {
      "text/plain": [
       "array([0.00830158, 1.84287278, 3.72522661])"
      ]
     },
     "execution_count": 70,
     "metadata": {},
     "output_type": "execute_result"
    }
   ],
   "source": [
    "atoms.get_positions()[0]"
   ]
  },
  {
   "cell_type": "code",
   "execution_count": 26,
   "metadata": {},
   "outputs": [],
   "source": [
    "pos = atoms.get_positions()[-126:]"
   ]
  },
  {
   "cell_type": "code",
   "execution_count": 28,
   "metadata": {},
   "outputs": [
    {
     "data": {
      "text/plain": [
       "63"
      ]
     },
     "execution_count": 28,
     "metadata": {},
     "output_type": "execute_result"
    }
   ],
   "source": [
    "# count how many items in pos have coordinate z < 3\n",
    "sum(pos[:,2] < 3)\n"
   ]
  },
  {
   "cell_type": "code",
   "execution_count": 29,
   "metadata": {},
   "outputs": [
    {
     "data": {
      "text/plain": [
       "63"
      ]
     },
     "execution_count": 29,
     "metadata": {},
     "output_type": "execute_result"
    }
   ],
   "source": [
    "sum(pos[:,2] > 3)\n"
   ]
  },
  {
   "cell_type": "code",
   "execution_count": 32,
   "metadata": {},
   "outputs": [
    {
     "data": {
      "text/plain": [
       "array([[ 3.19030757, 14.73543237,  1.99074097],\n",
       "       [ 1.6026201 ,  0.93056179,  2.15084662]])"
      ]
     },
     "execution_count": 32,
     "metadata": {},
     "output_type": "execute_result"
    }
   ],
   "source": [
    "atoms.get_positions()[-127:-125]"
   ]
  },
  {
   "cell_type": "code",
   "execution_count": 34,
   "metadata": {},
   "outputs": [
    {
     "data": {
      "text/plain": [
       "['Se', 'S']"
      ]
     },
     "execution_count": 34,
     "metadata": {},
     "output_type": "execute_result"
    }
   ],
   "source": [
    "atoms.get_chemical_symbols()[-127:-125]"
   ]
  },
  {
   "cell_type": "code",
   "execution_count": 35,
   "metadata": {},
   "outputs": [],
   "source": [
    "lower_pos = pos[pos[:,2] > 3]\n",
    "lower_pos = pos[pos[:,2] < 3]"
   ]
  },
  {
   "cell_type": "code",
   "execution_count": 42,
   "metadata": {},
   "outputs": [
    {
     "data": {
      "text/plain": [
       "(array([1.64017447, 0.92615948, 5.28043303]),\n",
       " array([1.61391713e-03, 3.68279233e+00, 5.28363335e+00]))"
      ]
     },
     "execution_count": 42,
     "metadata": {},
     "output_type": "execute_result"
    }
   ],
   "source": [
    "lower_pos[0], lower_pos[1]"
   ]
  },
  {
   "cell_type": "code",
   "execution_count": 38,
   "metadata": {},
   "outputs": [
    {
     "name": "stdout",
     "output_type": "stream",
     "text": [
      "28 [ 3.19031001 14.73543384  5.26584681]\n"
     ]
    }
   ],
   "source": [
    "# find items that are present un upper_pos but that do not have a matching x, y coordinates in the lower_pos\n",
    "# i.e. find atoms that have moved from the lower to the upper layer\n",
    "# do comparison with precision of 0.1\n",
    "# this is a bit of a hack, but it works\n",
    "import numpy as np\n",
    "np.isclose(lower_pos[:,0], lower_pos[:,0], atol=0.1)\n",
    "\n",
    "\n",
    "for i in range(len(lower_pos)):\n",
    "    el = lower_pos[i,:]\n",
    "    for j in range(len(lower_pos)):\n",
    "        lo = lower_pos[j,:]\n",
    "        if np.isclose(el[0], lo[0], atol=0.1) and np.isclose(el[1], lo[1], atol=0.1):\n",
    "            break\n",
    "    else:\n",
    "        print(i, el)\n"
   ]
  },
  {
   "cell_type": "code",
   "execution_count": 45,
   "metadata": {},
   "outputs": [
    {
     "name": "stdout",
     "output_type": "stream",
     "text": [
      "19 [ 1.59134315 11.96845165  5.28951969] 3.195848221193334\n",
      "20 [-5.45007980e-03  1.47341790e+01  5.28951978e+00] 3.1958480150796027\n",
      "27 [ 4.78934336 11.96844552  5.28950464] 3.195886684618014\n",
      "28 [ 3.19031001 14.73543384  5.26584681] 2.9255899877447187e-09\n",
      "29 [ 1.59354458 17.50373095  5.28950473] 3.1958861707875306\n",
      "36 [ 6.38592305 14.7340166   5.28961403] 3.195701738944464\n",
      "37 [ 4.78688913 17.50362396  5.28961408] 3.195701223073735\n"
     ]
    }
   ],
   "source": [
    "# find atoms in upper_pose near [ 3.19031001 14.73543384  5.26584681]\n",
    "atol = 4\n",
    "for i in range(len(lower_pos)):\n",
    "    el = lower_pos[i,:]\n",
    "    distance = np.linalg.norm(el - [ 3.19031001, 14.73543384,  5.26584681])\n",
    "    if distance < atol:\n",
    "        print(i, el, distance)"
   ]
  },
  {
   "cell_type": "code",
   "execution_count": 47,
   "metadata": {},
   "outputs": [
    {
     "name": "stdout",
     "output_type": "stream",
     "text": [
      "20 [ 1.59172737 11.96274512  2.16905921] 3.2005123826267936\n",
      "21 [-1.01999881e-02  1.47373648e+01  2.16905908e+00] 3.200512192626156\n",
      "28 [ 4.7889542  11.96273873  2.16907529] 3.200548679095291\n",
      "29 [ 1.58840784 17.5062475   2.16907524] 3.200548284484255\n",
      "36 [ 6.39067739 14.73721036  2.1689762 ] 3.2003694052726606\n",
      "37 [ 4.79203229 17.50614508  2.16897618] 3.200369488081134\n"
     ]
    }
   ],
   "source": [
    "atol = 4\n",
    "for i in range(len(lower_pos)):\n",
    "    el = lower_pos[i,:]\n",
    "    distance = np.linalg.norm(el - [ 3.19031001, 14.73543384,  2.16584681])\n",
    "    if distance < atol:\n",
    "        print(i, el, distance)"
   ]
  },
  {
   "cell_type": "code",
   "execution_count": 71,
   "metadata": {},
   "outputs": [],
   "source": [
    "atoms_final = atoms.copy()"
   ]
  },
  {
   "cell_type": "code",
   "execution_count": 55,
   "metadata": {},
   "outputs": [],
   "source": [
    "# move atom with coordinates [ 6.39067739 14.73721036  2.1689762 ] to [ 3.19031001, 14.73543384,  2.16584681] coordinates\n",
    "\n",
    "# find the index of the atom with coordinates [ 6.39067739 14.73721036  2.1689762 ]\n",
    "pos = atoms_final.get_positions()\n",
    "for i in range(len(pos)):\n",
    "    el = pos[i,:]\n",
    "    distance = np.linalg.norm(el - [ 6.39067739, 14.73721036,  2.1689762 ])\n",
    "    if distance < 0.1:\n",
    "        print(i, el, distance)\n"
   ]
  },
  {
   "cell_type": "code",
   "execution_count": 72,
   "metadata": {},
   "outputs": [],
   "source": [
    "# set position of atom 101 to equal [ 3.19031001, 14.73543384,  2.16584681]\n",
    "atoms_final.positions[144] = [ 4.785, 0.921,  5.2658]"
   ]
  },
  {
   "cell_type": "code",
   "execution_count": 73,
   "metadata": {},
   "outputs": [
    {
     "data": {
      "text/plain": [
       "<Popen: returncode: None args: ['/Users/andrey/micromamba/envs/m3gnet/bin/py...>"
      ]
     },
     "execution_count": 73,
     "metadata": {},
     "output_type": "execute_result"
    }
   ],
   "source": [
    "view(atoms_final)"
   ]
  },
  {
   "cell_type": "code",
   "execution_count": 74,
   "metadata": {},
   "outputs": [],
   "source": [
    "images = [atoms]\n",
    "images += [atoms.copy() for i in range(3)]\n",
    "images += [atoms_final]"
   ]
  },
  {
   "cell_type": "code",
   "execution_count": 75,
   "metadata": {},
   "outputs": [],
   "source": [
    "from ase.neb import NEB\n",
    "from ase.optimize import MDMin"
   ]
  },
  {
   "cell_type": "code",
   "execution_count": 76,
   "metadata": {},
   "outputs": [],
   "source": [
    "neb = NEB(images)"
   ]
  },
  {
   "cell_type": "code",
   "execution_count": 77,
   "metadata": {},
   "outputs": [],
   "source": [
    "neb.interpolate()"
   ]
  },
  {
   "cell_type": "code",
   "execution_count": 78,
   "metadata": {},
   "outputs": [],
   "source": [
    "for image in images[1:4]:\n",
    "    image.calc = M3GNetCalculator(potential=Potential(model))"
   ]
  },
  {
   "cell_type": "code",
   "execution_count": 79,
   "metadata": {},
   "outputs": [],
   "source": [
    "optimizer = MDMin(neb, trajectory='A2B.traj')"
   ]
  },
  {
   "cell_type": "code",
   "execution_count": 80,
   "metadata": {},
   "outputs": [
    {
     "name": "stdout",
     "output_type": "stream",
     "text": [
      "WARNING:tensorflow:You are casting an input of type complex64 to an incompatible dtype float32.  This will discard the imaginary part and may not be what you intended.\n",
      "WARNING:tensorflow:You are casting an input of type complex64 to an incompatible dtype float32.  This will discard the imaginary part and may not be what you intended.\n",
      "WARNING:tensorflow:You are casting an input of type complex64 to an incompatible dtype float32.  This will discard the imaginary part and may not be what you intended.\n",
      "WARNING:tensorflow:You are casting an input of type complex64 to an incompatible dtype float32.  This will discard the imaginary part and may not be what you intended.\n",
      "WARNING:tensorflow:You are casting an input of type complex64 to an incompatible dtype float32.  This will discard the imaginary part and may not be what you intended.\n",
      "WARNING:tensorflow:You are casting an input of type complex64 to an incompatible dtype float32.  This will discard the imaginary part and may not be what you intended.\n",
      "       Step     Time          Energy         fmax\n",
      "MDMin:    0 18:25:10    -1377.543335       25.7944\n",
      "WARNING:tensorflow:You are casting an input of type complex64 to an incompatible dtype float32.  This will discard the imaginary part and may not be what you intended.\n",
      "WARNING:tensorflow:You are casting an input of type complex64 to an incompatible dtype float32.  This will discard the imaginary part and may not be what you intended.\n",
      "WARNING:tensorflow:You are casting an input of type complex64 to an incompatible dtype float32.  This will discard the imaginary part and may not be what you intended.\n",
      "WARNING:tensorflow:You are casting an input of type complex64 to an incompatible dtype float32.  This will discard the imaginary part and may not be what you intended.\n",
      "WARNING:tensorflow:You are casting an input of type complex64 to an incompatible dtype float32.  This will discard the imaginary part and may not be what you intended.\n",
      "WARNING:tensorflow:You are casting an input of type complex64 to an incompatible dtype float32.  This will discard the imaginary part and may not be what you intended.\n",
      "MDMin:    1 18:25:16    -1378.639893       12.9071\n",
      "MDMin:    2 18:25:16    -1380.608032        1.7496\n",
      "MDMin:    3 18:25:17    -1380.988525        1.1669\n",
      "MDMin:    4 18:25:17    -1381.172852        1.0930\n",
      "MDMin:    5 18:25:17    -1381.215210        0.5032\n",
      "MDMin:    6 18:25:18    -1381.252197        0.3173\n",
      "MDMin:    7 18:25:18    -1381.276123        0.2187\n",
      "MDMin:    8 18:25:18    -1381.289307        0.2272\n",
      "MDMin:    9 18:25:19    -1381.297852        0.1399\n",
      "MDMin:   10 18:25:19    -1381.302490        0.1096\n",
      "MDMin:   11 18:25:19    -1381.307251        0.0791\n",
      "MDMin:   12 18:25:20    -1381.311157        0.0953\n",
      "MDMin:   13 18:25:20    -1381.313477        0.1435\n",
      "MDMin:   14 18:25:21    -1381.315674        0.0460\n",
      "MDMin:   15 18:25:21    -1381.317139        0.0399\n"
     ]
    },
    {
     "data": {
      "text/plain": [
       "True"
      ]
     },
     "execution_count": 80,
     "metadata": {},
     "output_type": "execute_result"
    }
   ],
   "source": [
    "optimizer.run(fmax=0.04)\n"
   ]
  },
  {
   "cell_type": "code",
   "execution_count": 81,
   "metadata": {},
   "outputs": [
    {
     "data": {
      "text/plain": [
       "<Popen: returncode: None args: ['/Users/andrey/micromamba/envs/m3gnet/bin/py...>"
      ]
     },
     "execution_count": 81,
     "metadata": {},
     "output_type": "execute_result"
    }
   ],
   "source": [
    "# visualize the trajectory\n",
    "from ase.visualize import view\n",
    "view(images)"
   ]
  },
  {
   "cell_type": "code",
   "execution_count": 68,
   "metadata": {},
   "outputs": [
    {
     "data": {
      "text/plain": [
       "<Popen: returncode: None args: ['/Users/andrey/micromamba/envs/m3gnet/bin/py...>"
      ]
     },
     "execution_count": 68,
     "metadata": {},
     "output_type": "execute_result"
    }
   ],
   "source": [
    "view(atoms)"
   ]
  },
  {
   "cell_type": "code",
   "execution_count": 69,
   "metadata": {},
   "outputs": [
    {
     "data": {
      "text/plain": [
       "<Popen: returncode: None args: ['/Users/andrey/micromamba/envs/m3gnet/bin/py...>"
      ]
     },
     "execution_count": 69,
     "metadata": {},
     "output_type": "execute_result"
    }
   ],
   "source": [
    "view(atoms_final)"
   ]
  },
  {
   "cell_type": "code",
   "execution_count": 83,
   "metadata": {},
   "outputs": [
    {
     "data": {
      "text/plain": [
       "(-1381.4408, -1381.3171, -1381.4683)"
      ]
     },
     "execution_count": 83,
     "metadata": {},
     "output_type": "execute_result"
    }
   ],
   "source": [
    "images[1].get_potential_energy(), images[2].get_potential_energy(), images[3].get_potential_energy(), "
   ]
  },
  {
   "cell_type": "code",
   "execution_count": null,
   "metadata": {},
   "outputs": [],
   "source": []
  }
 ],
 "metadata": {
  "kernelspec": {
   "display_name": "Python 3",
   "language": "python",
   "name": "python3"
  },
  "language_info": {
   "codemirror_mode": {
    "name": "ipython",
    "version": 3
   },
   "file_extension": ".py",
   "mimetype": "text/x-python",
   "name": "python",
   "nbconvert_exporter": "python",
   "pygments_lexer": "ipython3",
   "version": "3.9.0"
  }
 },
 "nbformat": 4,
 "nbformat_minor": 2
}
