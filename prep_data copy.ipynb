{
 "cells": [
  {
   "attachments": {},
   "cell_type": "markdown",
   "metadata": {},
   "source": [
    "## Import part"
   ]
  },
  {
   "cell_type": "code",
   "execution_count": 1,
   "metadata": {},
   "outputs": [
    {
     "name": "stderr",
     "output_type": "stream",
     "text": [
      "/Users/andrey/git/defect-dynamics/crystals/graphs.py:16: TqdmExperimentalWarning: Using `tqdm.autonotebook.tqdm` in notebook mode. Use `tqdm.tqdm` instead to force console mode (e.g. in jupyter console)\n",
      "  from tqdm.autonotebook import tqdm\n"
     ]
    }
   ],
   "source": [
    "import pickle\n",
    "import networkx.algorithms.isomorphism as iso\n",
    "import networkx as nx\n",
    "from tqdm.notebook import trange\n",
    "\n",
    "import numpy as np\n",
    "import pymatgen.core as core\n",
    "\n",
    "import os\n",
    "import re\n",
    "from pymatgen.analysis.structure_matcher import StructureMatcher\n",
    "from pymatgen.io.ase import AseAtomsAdaptor\n",
    "from ase.visualize.plot import plot_atoms\n",
    "from pymatgen.core.periodic_table import DummySpecies, Element, Species, get_el_sp\n",
    "import matplotlib.pyplot as plt\n",
    "from crystals.datastructures import VariableStructure\n",
    "from copy import deepcopy\n",
    "\n",
    "from crystals.datastructures import State\n",
    "from crystals.matchers import GraphIsomorphismMatcher\n",
    "from crystals.selectors import DefectsNoChangeSelector, DefectLocalitySelector\n",
    "from crystals.graphs import GraphManager\n",
    "import pickle\n",
    "from tqdm.autonotebook import tqdm\n",
    "import networkx.algorithms.isomorphism as iso\n",
    "from networkx import similarity\n",
    "import networkx as nx\n",
    "from crystals import datastructures as ds, datasets, fp\n",
    "import copy\n",
    "\n",
    "\n",
    "sm = StructureMatcher(primitive_cell=False)\n"
   ]
  },
  {
   "cell_type": "code",
   "execution_count": null,
   "metadata": {},
   "outputs": [],
   "source": [
    "# %load_ext autoreload\n",
    "# %autoreload 0"
   ]
  },
  {
   "cell_type": "code",
   "execution_count": 2,
   "id": "3b399fa8",
   "metadata": {},
   "outputs": [],
   "source": [
    "import matplotlib.pylab as plt\n",
    "from pymatgen.core.periodic_table import DummySpecies\n",
    "from pymatgen.io.ase import AseAtomsAdaptor\n",
    "from ase.visualize.plot import plot_atoms\n",
    "from pymatgen.core.structure import Structure\n",
    "from ase.utils.structure_comparator import SymmetryEquivalenceCheck\n",
    "from pymatgen.util import coord\n",
    "comp = SymmetryEquivalenceCheck()"
   ]
  },
  {
   "cell_type": "code",
   "execution_count": 3,
   "metadata": {},
   "outputs": [],
   "source": [
    "def switch_group(group_name, dataset):\n",
    "    dataset.processed_data = None\n",
    "    dataset.filter_group(group_name)\n",
    "    return dataset.prepare()  # return np.array of States\n",
    "    \n",
    "def load_data(group_name=None):\n",
    "    dataset = datasets.MoS2Dataset(group_name)\n",
    "    if group_name:\n",
    "        switch_group(group_name, dataset)\n",
    "    return dataset"
   ]
  },
  {
   "cell_type": "code",
   "execution_count": 4,
   "metadata": {},
   "outputs": [],
   "source": [
    "dataset = load_data()"
   ]
  },
  {
   "cell_type": "code",
   "execution_count": 5,
   "metadata": {},
   "outputs": [
    {
     "data": {
      "text/plain": [
       "15"
      ]
     },
     "execution_count": 5,
     "metadata": {},
     "output_type": "execute_result"
    }
   ],
   "source": [
    "switch_group('X5_diff', dataset)\n",
    "len(dataset)"
   ]
  },
  {
   "cell_type": "code",
   "execution_count": 7,
   "metadata": {},
   "outputs": [],
   "source": [
    "two_def_groups = ['S2', 'S4', 'V2', 'V4', 'X2_diff', 'X2_same', 'X4_diff', 'X4_same', 'X5_diff', 'X5_same']\n",
    "three_def_groups = ['S3_diff', 'S3_same', 'S5_diff', 'S5_same', 'S6_diff', 'S6_same',\n",
    "                    'V3_diff', 'V3_same', 'V5_diff', 'V5_same', 'V6_diff', 'V6_same',]\n",
    "# check all items of two_def_groups are in dataset.groups.keys()\n",
    "assert all([x in dataset.groups.keys() for x in two_def_groups])"
   ]
  },
  {
   "cell_type": "code",
   "execution_count": 8,
   "metadata": {},
   "outputs": [],
   "source": [
    "from scipy.spatial import transform\n",
    "def perturb_shift(state: State, shift=None):\n",
    "    new_state = deepcopy(state)\n",
    "    if shift is None:\n",
    "        shift = np.random.randint(0, 8, 3) * 0.125\n",
    "        shift[2] = 0\n",
    "    new_state.initial_structure.translate_sites(range(len(new_state.initial_structure)), shift)\n",
    "\n",
    "    for d in new_state.defects:\n",
    "        fc = np.mod(d.frac_coords + shift, 1)\n",
    "        d.frac_coords = fc\n",
    "    return new_state\n",
    "\n",
    "def perturb_rotate(state: State, theta=None):\n",
    "    new_state = deepcopy(state)\n",
    "    if theta is None:\n",
    "        theta = (np.random.randint(2) + 1) * 2 * np.pi / 3\n",
    "    new_state.initial_structure = ds.rotate_structure(new_state.initial_structure, theta)\n",
    "    new_state.defects = ds.rotate_sites(new_state.defects, theta)\n",
    "    return new_state\n",
    "\n",
    "def pertrube_state(state: State, count: int=10, kind: str=None):\n",
    "    new_state = state\n",
    "    for _ in range(count):\n",
    "        if kind is None:\n",
    "            kind = np.random.choice(['shift', 'rotate'])\n",
    "        if kind == 'shift':\n",
    "            new_state = (perturb_shift(new_state))\n",
    "        elif kind == 'rotate':\n",
    "            new_state = (perturb_rotate(new_state))\n",
    "        else:\n",
    "            assert False, 'Unknown pertrubation kind'\n",
    "    return new_state\n",
    "\n",
    "def shuffle_defects(state: State):\n",
    "    # state.initial_structure.sort(key=lambda x: np.random.random())\n",
    "    state.defects.sort(key=lambda x: np.random.random())\n",
    "    return state\n",
    "\n",
    "\n",
    "def generate_true_false_pairs(data, false_count=None, true_ratio=1.0, verbose=False):\n",
    "    true_pairs = []\n",
    "    false_pairs = []\n",
    "    if false_count is None:\n",
    "        false_count = len(data) * (len(data) - 1) / 2\n",
    "    true_count = int(true_ratio * false_count)\n",
    "\n",
    "    pert_count = max([1, int(true_count / len(data))])\n",
    "    if verbose:\n",
    "        print(\">>>\", true_count, false_count, pert_count )\n",
    "    stop = 0\n",
    "    pbar = tqdm(total=false_count, disable=not verbose)\n",
    "    for i in range(len(data)):\n",
    "        for j in range(i, len(data)):\n",
    "            if i == j:\n",
    "                for _ in range(pert_count):\n",
    "                    true_pairs.append([data[i], shuffle_defects(pertrube_state(data[i]))])\n",
    "            else:\n",
    "                false_pairs.append([data[i], data[j]])\n",
    "                pbar.update(1)\n",
    "                if len(false_pairs) >= false_count:\n",
    "                    stop = 1\n",
    "                    break\n",
    "        if stop:\n",
    "            break\n",
    "\n",
    "    if len(true_pairs) < true_count:\n",
    "        for _ in range(true_count - len(true_pairs)):\n",
    "            i = np.random.randint(len(data))\n",
    "            true_pairs.append([data[i], pertrube_state(data[i])])\n",
    "    return true_pairs, false_pairs\n",
    "\n",
    "def generate_true_pairs(data, true_count, pert=10, verbose=False, seed=None):\n",
    "    true_pairs = []\n",
    "    if seed is not None:\n",
    "        np.random.seed(seed)\n",
    "    pert_per_state = int(np.round(true_count / len(data), 0))\n",
    "    assert pert_per_state > 1, f\"pert_per_state must be > 1 {(pert_per_state)}\"\n",
    "    if verbose:\n",
    "        print(f\">>> {true_count} ~ {pert_per_state} perturbations per state\")\n",
    "    pbar = tqdm(total=true_count, disable=not verbose)\n",
    "    for _ in range(true_count):\n",
    "        state = data[np.random.randint(len(data))]\n",
    "        for _ in range(pert_per_state):\n",
    "            shuffled_state = shuffle_defects(pertrube_state(state, count=pert))\n",
    "            assert compare_sm(state.initial_structure, shuffled_state.initial_structure), \"What???\"\n",
    "            true_pairs.append([state, shuffled_state])\n",
    "            pbar.update(1)\n",
    "            if pbar.n >= true_count:\n",
    "                return true_pairs\n",
    "    assert False, \"how did I get here?\""
   ]
  },
  {
   "cell_type": "code",
   "execution_count": 9,
   "metadata": {},
   "outputs": [],
   "source": [
    "\n",
    "smatcher = StructureMatcher(primitive_cell=False)\n",
    "def compare_sm(_sA, _sB):\n",
    "    return smatcher.fit(_sA, _sB)"
   ]
  },
  {
   "cell_type": "code",
   "execution_count": 10,
   "metadata": {},
   "outputs": [],
   "source": [
    "def merge_pairs(true_pairs, false_pairs):\n",
    "    pairs = []\n",
    "    targets = np.zeros(len(true_pairs) + len(false_pairs))\n",
    "    targets[:len(true_pairs)] = 1\n",
    "    pairs = deepcopy(true_pairs)\n",
    "    pairs.extend(false_pairs)\n",
    "    return pairs, targets"
   ]
  },
  {
   "cell_type": "code",
   "execution_count": 11,
   "metadata": {},
   "outputs": [],
   "source": [
    "def get_the_node(struct: Structure):\n",
    "\n",
    "    # compare node Z\n",
    "    # compare node z coord distribution (single one - the one)\n",
    "    node_Zs = dict([(i, s.specie.Z) for i, s in enumerate(struct.sites)])\n",
    "    sorted_node_Zs = sorted(node_Zs.items(), key=lambda x: x[1])\n",
    "    max_Z = sorted_node_Zs[-1][1]\n",
    "    if sorted_node_Zs[-2][1] != max_Z:\n",
    "        return sorted_node_Zs[-1][0]\n",
    "    min_Z = sorted_node_Zs[0][1]\n",
    "    if sorted_node_Zs[1][1] != min_Z:\n",
    "        return sorted_node_Zs[0][0]\n",
    "\n",
    "    node_zs = dict([(i, s.frac_coords[2]) for i, s in enumerate(struct.sites)])\n",
    "    sorted_node_zs = sorted(node_zs.items(), key=lambda x: x[1])\n",
    "    min_z = sorted_node_zs[0][1]\n",
    "    if sorted_node_zs[1][1] != min_z:\n",
    "        return sorted_node_zs[0][0]\n",
    "    max_z = sorted_node_zs[-1][1]\n",
    "    if sorted_node_zs[-2][1] != max_z:\n",
    "        return sorted_node_zs[-1][0]\n",
    "    if len(struct.sites) == 2:  # pick a random one\n",
    "        return 0\n",
    "    return None    \n",
    "\n",
    "def align_struc(struct: Structure, idx_center: int):\n",
    "\n",
    "    node = struct.sites[idx_center]\n",
    "    # print(\">>> node before shift\", node)\n",
    "    struct = ds.center_at_site(struct, idx_center)\n",
    "    node = struct.sites[idx_center]  # refresh after rotation\n",
    "    # print(\">>> node after shift\", node)\n",
    "\n",
    "    max_distance = 0\n",
    "    node2 = None\n",
    "    image2 = None\n",
    "    idx2 = None\n",
    "    for i, s in enumerate(struct.sites):\n",
    "        d, image = node.distance_and_image(s)\n",
    "        if d > max_distance:\n",
    "            max_distance = d\n",
    "            node2 = s\n",
    "            image2 = image\n",
    "            idx2 = i\n",
    "    assert node2 is not None, \"Cannot find the other one\"\n",
    "    # print(\">>> node2\", node2, image2, idx2, max_distance)\n",
    "\n",
    "    dx_max = 0\n",
    "    angle_max = 0\n",
    "    angle = 2 * np.pi / 3\n",
    "    struct_tmp = deepcopy(struct)\n",
    "    node = struct_tmp.sites[idx_center]\n",
    "    node2 = struct_tmp.sites[idx2]\n",
    "    for i in range(0,3):\n",
    "        dx = node2.frac_coords[0] - node.frac_coords[0]\n",
    "        dy = node2.frac_coords[1] - node.frac_coords[1]\n",
    "        if dx > dx_max:\n",
    "            dx_max = dx\n",
    "            angle_max = angle * i\n",
    "        # print(f\">>>==: {angle * i:.2f}, dx {dx:.2f}, dy {dy:.2f}, dx_max {dx_max:.2f}, angle_max {angle_max:.2f}\" )\n",
    "        ds.rotate_sites_inplace(struct_tmp.sites, angle, anchor=node.coords)\n",
    "    ds.rotate_structure(struct, angle_max, anchor=node.coords)\n",
    "    return struct\n",
    "\n",
    "def normalize_struct_asymmetry(struct: Structure) -> Structure:\n",
    "    center_idx = get_the_node(struct)\n",
    "    struct = align_struc(struct, center_idx)\n",
    "    return struct"
   ]
  },
  {
   "cell_type": "code",
   "execution_count": 17,
   "metadata": {},
   "outputs": [],
   "source": [
    "s = dataset[0].initial_structure\n"
   ]
  },
  {
   "cell_type": "code",
   "execution_count": 18,
   "metadata": {},
   "outputs": [],
   "source": [
    "from pymatgen.io.ase import AseAtomsAdaptor\n",
    "\n",
    "a = AseAtomsAdaptor.get_atoms(s)\n",
    "# save to file\n",
    "from ase.io import write\n",
    "write('test.xyz', a)\n"
   ]
  },
  {
   "cell_type": "code",
   "execution_count": null,
   "metadata": {},
   "outputs": [],
   "source": []
  },
  {
   "attachments": {},
   "cell_type": "markdown",
   "metadata": {},
   "source": [
    "## Generate true pairs dataset"
   ]
  },
  {
   "cell_type": "code",
   "execution_count": 12,
   "metadata": {},
   "outputs": [
    {
     "data": {
      "application/vnd.jupyter.widget-view+json": {
       "model_id": "00af18077f90416e865d4391bc0f5f56",
       "version_major": 2,
       "version_minor": 0
      },
      "text/plain": [
       "  0%|          | 0/12 [00:00<?, ?it/s]"
      ]
     },
     "metadata": {},
     "output_type": "display_data"
    },
    {
     "name": "stdout",
     "output_type": "stream",
     "text": [
      "File exists:  data/data_pairs_S3_diff_true.pkl\n",
      "File exists:  data/data_pairs_S3_same_true.pkl\n",
      "File exists:  data/data_pairs_S5_diff_true.pkl\n",
      "File exists:  data/data_pairs_S5_same_true.pkl\n",
      "File exists:  data/data_pairs_S6_diff_true.pkl\n",
      "File exists:  data/data_pairs_S6_same_true.pkl\n",
      "File exists:  data/data_pairs_V3_diff_true.pkl\n",
      "File exists:  data/data_pairs_V3_same_true.pkl\n",
      "File exists:  data/data_pairs_V5_diff_true.pkl\n",
      "File exists:  data/data_pairs_V5_same_true.pkl\n",
      "File exists:  data/data_pairs_V6_diff_true.pkl\n",
      "File exists:  data/data_pairs_V6_same_true.pkl\n",
      "Generated 0 pairs\n"
     ]
    }
   ],
   "source": [
    "from collections import OrderedDict\n",
    "group_pair_lens = OrderedDict()\n",
    "pairs_same_group = []\n",
    "true_pairs_dict = {}\n",
    "\n",
    "#check if variable is defined\n",
    "try:\n",
    "    pair_groups\n",
    "except NameError:\n",
    "    pair_groups = {}\n",
    "\n",
    "# export_groups = ['S3_same',]\n",
    "export_groups = three_def_groups\n",
    "\n",
    "for group in tqdm(export_groups):\n",
    "    filename = f'data/data_pairs_{group}_true.pkl'\n",
    "    if os.path.exists(filename):\n",
    "        print(\"File exists: \", filename)\n",
    "        continue\n",
    "    pair_groups[group] = switch_group(group, dataset)\n",
    "    print(f'group {group} has {len(dataset)} items')\n",
    "    true_count = len(dataset) * 5\n",
    "    true_pairs = generate_true_pairs(pair_groups[group], true_count=true_count, pert=10, verbose=True, seed=0)\n",
    "    true_pairs_dict[group] = true_pairs\n",
    "    pairs_same_group.extend(true_pairs)\n",
    "    group_pair_lens[group] = len(true_pairs)\n",
    "    with open(filename, 'wb') as f:\n",
    "        pickle.dump(true_pairs, f)\n",
    "    print(\"Saved to \", filename)\n",
    "print(f\"Generated {len(pairs_same_group)} pairs\")"
   ]
  },
  {
   "cell_type": "code",
   "execution_count": null,
   "metadata": {},
   "outputs": [],
   "source": []
  },
  {
   "attachments": {},
   "cell_type": "markdown",
   "metadata": {},
   "source": [
    "## Check different matchers/FPs"
   ]
  },
  {
   "cell_type": "code",
   "execution_count": null,
   "metadata": {},
   "outputs": [],
   "source": [
    "pairs = copy.copy(pairs_same_group)\n",
    "targets = pairs_targets"
   ]
  },
  {
   "cell_type": "code",
   "execution_count": null,
   "metadata": {},
   "outputs": [],
   "source": [
    "len(pairs), len(targets)"
   ]
  },
  {
   "cell_type": "code",
   "execution_count": null,
   "metadata": {},
   "outputs": [],
   "source": [
    "class ThreeDefectsFP(fp.TwoDefectsFP):\n",
    "    def __init__(self, *args, **kwargs):\n",
    "        super().__init__(*args, **kwargs)\n",
    "\n",
    "\n",
    "    def get_key(self, struct: Structure) -> tuple:\n",
    "        assert len(struct) == 3, \"Only works for three defects\"\n",
    "        # struct = ds.normalize_struct(struct)\n",
    "        result = []\n",
    "        sum_images = np.zeros(3)\n",
    "        for i in range(3):\n",
    "            site1 = struct.sites[i]\n",
    "            site2 = struct.sites[(i + 1) % 3]\n",
    "            start, end, is_directed = get_directed_edge(site1, site2)\n",
    "            dZ = end.specie.Z - start.specie.Z\n",
    "            dz = (end.coords[2] - start.coords[2]) * np.sign(dZ)\n",
    "            proj = fp.rotate_vector_x_proj(struct.lattice, start.coords, end.coords, n_turns=self.n_turns)\n",
    "            # _, image = struct.lattice.get_distance_and_image(start.frac_coords, end.frac_coords)\n",
    "            # sum_images += image \n",
    "            # print(\">>\", image)\n",
    "            # image = np.dot(image, np.array([4,16,16*4]))\n",
    "            if not is_directed:\n",
    "                proj = np.abs(proj)\n",
    "            result.append(np.array([np.min(proj), np.max(proj), dz]))\n",
    "            # result.append(np.array([np.min(proj), np.max(proj)]))\n",
    "\n",
    "        result.sort(key=lambda x: x[0]*100 + x[1])\n",
    "        span = np.pad(np.array(sum_images[0:2]).reshape(1, 2), [(0, 2), (0, 0)])\n",
    "        print(\">>> span\", span[0, :])\n",
    "        arr_result = np.concatenate([np.array(result) , span], axis=1)\n",
    "        # arr_result = np.concatenate(np.array(result), np.ones(3) * sum_images)\n",
    "        return arr_result\n",
    "\n",
    "    def fp_distance(self, struct1: Structure, struct2: Structure) -> float:\n",
    "            proj1 = self.get_key(struct1)\n",
    "            proj2 = self.get_key(struct2)\n",
    "            return np.linalg.norm(proj1 - proj2)\n",
    "\n",
    "class DescriptorFP(fp.FingerprintAlgorithm):\n",
    "    def __init__(self, *args, **kwargs):\n",
    "        super().__init__(*args, **kwargs)\n",
    "\n",
    "    def match(self, state1: State, state2: State, **kwargs) -> bool:\n",
    "        return state1.idx == state2.idx\n",
    "\n"
   ]
  },
  {
   "cell_type": "code",
   "execution_count": null,
   "metadata": {},
   "outputs": [],
   "source": [
    "idx = 504\n",
    "_s1_d = pairs[idx][0].defect_structure()\n",
    "_s2_d = pairs[idx][1].defect_structure()\n",
    "print(_s1_d.sites, \"\\n\", _s2_d.sites)\n",
    "matcherThreeDefects = ThreeDefectsFP(selector)\n",
    "matcherThreeDefects.get_key(normalize_struct_asymmetry(_s1_d)), matcherThreeDefects.get_key(normalize_struct_asymmetry(_s2_d))"
   ]
  },
  {
   "cell_type": "code",
   "execution_count": null,
   "metadata": {},
   "outputs": [],
   "source": [
    "get_the_node(_s1_d), get_the_node(_s2_d)"
   ]
  },
  {
   "cell_type": "code",
   "execution_count": null,
   "metadata": {},
   "outputs": [],
   "source": [
    "_s1_d.sites, _s1_d.distance_matrix, _s2_d.sites, _s2_d.distance_matrix"
   ]
  },
  {
   "cell_type": "code",
   "execution_count": null,
   "metadata": {},
   "outputs": [],
   "source": [
    "true_indices = np.where(pairs_targets == 1)[0]\n",
    "false_indices = np.where(pairs_targets == 0)[0]\n",
    "\n"
   ]
  },
  {
   "cell_type": "code",
   "execution_count": null,
   "metadata": {},
   "outputs": [],
   "source": [
    "def distances(struct):\n",
    "    dm = struct.distance_matrix\n",
    "    return np.sort(np.array([dm[0, 1], dm[0, 2], dm[1, 2]]))\n",
    "\n",
    "for j in true_indices[:9]:\n",
    "    i = true_indices[j]\n",
    "    if i > len(pairs):\n",
    "        print(\"break\")\n",
    "        break\n",
    "    _s1_d = pairs[i][0].defect_structure()\n",
    "    _s2_d = pairs[i][1].defect_structure()\n",
    "    print(_s1_d.sites, \"\\n\", _s2_d.sites)\n",
    "    _s1_d = normalize_struct_asymmetry(_s1_d)\n",
    "    _s2_d = normalize_struct_asymmetry(_s2_d)\n",
    "    k1, k2 = (matcherThreeDefects.get_key(_s1_d), matcherThreeDefects.get_key(_s2_d))\n",
    "    d1 = distances(_s1_d)\n",
    "    d2 = distances(_s2_d)\n",
    "    span1 = k1[0, 3:]\n",
    "    span2 = k2[0, 3:]\n",
    "    span1_sum = np.sum(np.abs(span1))\n",
    "    span2_sum = np.sum(np.abs(span2))\n",
    "    same_dist = np.allclose(d1, d2)\n",
    "    if span1_sum != span2_sum:\n",
    "        print(i, \"...\", span1, span2, same_dist, targets[i], \"\\n\", k1, \"\\n\", k2)"
   ]
  },
  {
   "cell_type": "code",
   "execution_count": null,
   "metadata": {},
   "outputs": [],
   "source": [
    "class TwoDefectsFP(fp.FingerprintAlgorithm):\n",
    "    default_threshold: float = 1e-2\n",
    "\n",
    "    def __init__(self, *args, **kwargs):\n",
    "        super().__init__(*args, **kwargs)\n",
    "        self.n_turns = 3\n",
    "\n",
    "    def _build_key(self, proj, is_directed: bool, unify: bool = False):\n",
    "        key = np.round(proj, 5)\n",
    "        if not is_directed:\n",
    "            key = np.abs(key)\n",
    "        if unify:\n",
    "            argmax_idx = np.argmax(key)\n",
    "            pmax = key[argmax_idx]\n",
    "            if key[(argmax_idx + 2) % 3] == pmax:\n",
    "                argmax_idx = (argmax_idx + 2) % 3\n",
    "            key = np.roll(key, -argmax_idx)\n",
    "        return key\n",
    "\n",
    "    def get_key(self, struct: Structure, unify: bool = True) -> tuple:\n",
    "        assert len(struct) == 2, \"Only works for two defects\"\n",
    "        start, end, is_directed = get_directed_edge(struct.sites[0], struct.sites[1])\n",
    "        proj = rotate_vector_x_proj(struct.lattice, start.coords, end.coords, n_turns=self.n_turns)\n",
    "        key = self._build_key(proj, is_directed, unify)\n",
    "        return key\n",
    "    \n",
    "    def match(self, state1: State, state2: State, **kwargs) -> bool:\n",
    "        struct1 = state1.defect_structure()\n",
    "        struct2 = state2.defect_structure()\n",
    "        assert len(struct1) == 2, \"Only works for two defects\"\n",
    "        assert len(struct2) == 2, \"Only works for two defects\"\n",
    "        if np.abs(struct1[0].distance(struct1[1]) - struct2[0].distance(struct2[1])) > self.default_threshold:\n",
    "            return False\n",
    "        key1 = self.get_key(struct1)\n",
    "        key2 = self.get_key(struct2)\n",
    "        return np.linalg.norm(key1 - key2) < self.default_threshold\n",
    "    \n",
    "    def get_phase(self, key1, key2) -> int:\n",
    "        for i in range(3):\n",
    "            if np.allclose(key1, key2):\n",
    "                return i\n",
    "            key2 = np.roll(key2, -1)\n",
    "        return None\n",
    "\n",
    "        \n",
    "def get_directed_edge(site0, site1):\n",
    "    delta_z = np.round(site0.z - site1.z, 5)\n",
    "    if site0.specie.Z > site1.specie.Z:\n",
    "        return site0, site1, True\n",
    "    elif site0.specie.Z < site1.specie.Z:\n",
    "        return site1, site0, True\n",
    "    elif delta_z < 0: \n",
    "        return site0, site1, True\n",
    "    elif delta_z > 0:\n",
    "        return site1, site0, True\n",
    "    return site0, site1, False"
   ]
  },
  {
   "cell_type": "code",
   "execution_count": null,
   "metadata": {},
   "outputs": [],
   "source": [
    "class DistancePlusMatcher(matchers.CrystalMatcher):\n",
    "    def __init__(self, selector, *args, **kwargs):\n",
    "        super().__init__(selector, *args, **kwargs)\n",
    "        self.selector = selector\n",
    "        self.fp = TwoDefectsFP(selector)\n",
    "        self.iso = matchers.GraphIsomorphismMatcher(selector)\n",
    "\n",
    "\n",
    "    def match(self, state1: State, state2: State, **kwargs) -> bool:\n",
    "        if not self.iso.match(state1, state2):\n",
    "            return False\n",
    "        return self.fp.match(state1, state2)"
   ]
  },
  {
   "cell_type": "code",
   "execution_count": null,
   "metadata": {},
   "outputs": [],
   "source": [
    "from sklearn import metrics\n",
    "from crystals import matchers, fp, selectors, structure\n",
    "\n",
    "sm = structure.StructureManager(dataset)\n",
    "selector = selectors.DefectsNoChangeSelector(sm)\n",
    "\n",
    "\n",
    "matchers_dict = dict(\n",
    "    matcher2def = TwoDefectsFP(selector),\n",
    "    matcherDistancePlus = DistancePlusMatcher(selector),\n",
    "    # matcher3def = ThreeDefectsFP(selector),\n",
    "    # matcherDescriptor = DescriptorFP(selector),\n",
    "    # matcherSpaceGroup = fp.SpaceGroupFP(selector),\n",
    "    matcherIsomLocality = matchers.GraphIsomorphismMatcher(selector)\n",
    "    )"
   ]
  },
  {
   "cell_type": "code",
   "execution_count": null,
   "metadata": {},
   "outputs": [],
   "source": [
    "# check GI with locality\n",
    "# selector = selectors.DefectLocalitySelector(sm)\n",
    "\n",
    "# gmA = GraphManager(dataset)\n",
    "# graphA = dataset.graphs\n",
    "\n",
    "# matchers_dict = dict(\n",
    "#     matcherIsomLocality = matchers.GraphIsomorphismMatcher(selector)\n",
    "#     )"
   ]
  },
  {
   "cell_type": "code",
   "execution_count": null,
   "metadata": {},
   "outputs": [],
   "source": [
    "\n",
    "preds = dict()\n",
    "metric = dict()\n",
    "denergies = np.zeros(len(pairs))\n",
    "for key, matcher in matchers_dict.items():\n",
    "    preds[key] = np.zeros(len(pairs))\n",
    "    pred = preds[key]\n",
    "    for i in trange(len(pairs), desc=key):\n",
    "        pred[i] = matcher.match(pairs[i][0], pairs[i][1])\n",
    "        denergies[i] = np.abs(pairs[i][0].energy - pairs[i][1].energy)\n",
    "    fpr, tpr, thresholds = metrics.roc_curve(targets, pred)\n",
    "    accuracy = metrics.accuracy_score(targets, pred)\n",
    "    precision = metrics.precision_score(targets, pred)\n",
    "    recall = metrics.recall_score(targets, pred)\n",
    "    f1 = metrics.f1_score(targets, pred)\n",
    "    metric[key] = dict(fpr=fpr, tpr=tpr, thresholds=thresholds, accuracy=accuracy, precision=precision, recall=recall, f1=f1)\n"
   ]
  },
  {
   "cell_type": "code",
   "execution_count": null,
   "metadata": {},
   "outputs": [],
   "source": [
    "for key, m in metric.items():\n",
    "    if key == 'matcherIsom':\n",
    "        continue\n",
    "    fpr, tpr, thresholds = m['fpr'], m['tpr'], m['thresholds']\n",
    "    accuracy = m['accuracy']\n",
    "    precision = m['precision']\n",
    "    recall = m['recall']\n",
    "    f1 = m['f1']\n",
    "    print(f'{key}: Accuracy: {accuracy:.3f}, Precision: {precision:.3f}, Recall: {recall:.3f}, F1: {f1:.3f}')\n",
    "    plt.xlabel('False Positive Rate')\n",
    "    plt.ylabel('True Positive Rate')\n",
    "    plt.plot(fpr, tpr, label=f'{key.replace(\"matcher\", \"\")} ROC curve (area = {metrics.auc(fpr, tpr):.3f})')\n",
    "plt.legend();"
   ]
  },
  {
   "cell_type": "code",
   "execution_count": null,
   "metadata": {},
   "outputs": [],
   "source": [
    "algo = 'matcher2def'\n",
    "# algo = 'matcherIsomLocality'\n",
    "indices_pred_true = np.argwhere(preds[algo] > 0.5).flatten()\n",
    "indices_pred_false = np.argwhere(preds[algo] < 0.5).flatten()\n",
    "indices_false = np.argwhere(targets < 0.5).flatten()\n",
    "indices_true = np.argwhere(targets > 0.5).flatten()\n",
    "indices_fp = np.intersect1d(indices_pred_true, indices_false)\n",
    "indices_fn = np.intersect1d(indices_pred_false, indices_true)\n",
    "\n",
    "denergies_fp = denergies[indices_fp]\n",
    "distances_fp = preds[algo][indices_fp]\n",
    "\n",
    "plt.scatter(distances_fp, denergies_fp, alpha=0.2)\n",
    "plt.title(f\"Delta Energy for {algo.upper()} FP\");"
   ]
  },
  {
   "cell_type": "code",
   "execution_count": null,
   "metadata": {},
   "outputs": [],
   "source": [
    "dict(FP_len=len(indices_fp), FPs=indices_fp[:10], FN_len=len(indices_fn), FNs=indices_fn[:10])"
   ]
  },
  {
   "cell_type": "code",
   "execution_count": null,
   "metadata": {},
   "outputs": [],
   "source": [
    "denergies_true = denergies[np.argwhere(targets > 0.5).flatten()]\n",
    "denergies_false = denergies[np.argwhere(targets < 0.5).flatten()]\n",
    "denergies_fp = denergies[indices_fp]\n",
    "# plt.hist([denergies_false, denergies_fp], bins=30, alpha=0.5, label=['false', 'FP']);\n",
    "plt.hist([denergies_fp], bins=30, alpha=0.5, label=[ 'FP']);\n",
    "plt.xlabel('Delta Energy (eV)')\n",
    "plt.legend()\n",
    "dict(   \n",
    "    mean_denergy_false=format(np.mean(denergies_false), '.4f'), \n",
    "    mean_denergy_fp=format(np.mean(denergies_fp), '.5f'),\n",
    "    len_fp=len(denergies_fp),\n",
    ")"
   ]
  },
  {
   "attachments": {},
   "cell_type": "markdown",
   "metadata": {},
   "source": [
    "## Examine FPs/FNs"
   ]
  },
  {
   "cell_type": "code",
   "execution_count": null,
   "metadata": {},
   "outputs": [],
   "source": [
    "def pair2structs(pairs, idx, group_pair_lens):\n",
    "    s1 = deepcopy(pairs[idx][0].initial_structure)\n",
    "    s2 = deepcopy(pairs[idx][1].initial_structure)\n",
    "    s1_d = Structure.from_sites(pairs[idx][0].defects)\n",
    "    s2_d = Structure.from_sites(pairs[idx][1].defects)\n",
    "    for s in s1_d.sites:\n",
    "        nl = s1.get_neighbor_list(0.9, [s,])[0]\n",
    "        if len(nl) == 0:\n",
    "            s1.append(s.specie, s.coords, coords_are_cartesian=True)\n",
    "    for s in s2_d.sites:\n",
    "        nl = s2.get_neighbor_list(0.9, [s,])[0]\n",
    "        if len(nl) == 0:\n",
    "            s2.append(s.specie, s.coords, coords_are_cartesian=True)\n",
    "    assert len(s1.sites) == 192, f\"not right size: {len(s1.sites)}\"\n",
    "    assert len(s2.sites) == 192, f\"not right size: {len(s2.sites)}\"\n",
    "    #     s1.remove_sites([i for i in range(192, len(s1.sites))])\n",
    "    # if len(s2.sites) > 192:\n",
    "    #     s2.remove_sites([i for i in range(192, len(s2.sites))])\n",
    "    delta = s1_d.frac_coords[0][2] - s1_d.frac_coords[1][2]\n",
    "    group_idx = ([0,] + [i + 1 for (i, k) in enumerate(np.cumsum(list(group_pair_lens.values()))) if idx > k])[0]\n",
    "    group_name = list(group_pair_lens.keys())[group_idx]\n",
    "    was_set1 = set([s.properties['was'] for s in s1_d.sites])\n",
    "    was_set2 = set([s.properties['was'] for s in s2_d.sites])\n",
    "    print(f\"{idx}, {s1_d.distance_matrix[1,0]:.3}, {s1_d.species}, {was_set1}, {group_name}\")\n",
    "    # print(f\"{s2_d.distance_matrix[1,0]:.3}, {s2_d.species}, {was_set2}, {two_def_groups[group_idx]}\")\n",
    "    return s1, s2, s1_d, s2_d"
   ]
  },
  {
   "cell_type": "code",
   "execution_count": null,
   "metadata": {},
   "outputs": [],
   "source": [
    "bad_idx =   931\n",
    "matcher = TwoDefectsFP(selector)\n",
    "s1, s2, s1_d, s2_d = pair2structs(pairs, bad_idx, group_pair_lens)\n",
    "# key1, key2 = matchers_dict['matcher2def'].get_key(s1_d), matchers_dict['matcher2def'].get_key(s2_d)\n",
    "# key1, key2 = matchers_dict['matcher3def'].get_key(s1_d), matchers_dict['matcher3def'].get_key(s2_d)\n",
    "# key1, key2 = matcher.get_key(s1_d), matcher.get_key(s2_d)\n",
    "print(s1_d.distance_matrix, \"\\n\", s2_d.distance_matrix)\n",
    "targets[bad_idx], preds['matcher2def'][bad_idx]"
   ]
  },
  {
   "cell_type": "code",
   "execution_count": null,
   "metadata": {},
   "outputs": [],
   "source": [
    "matcher.get_key(s1_d), matcher.get_key(s2_d), matcher.get_key(s1_d, unify=False), matcher.get_phase(matcher.get_key(s1_d), matcher.get_key(s1_d, unify=False))"
   ]
  },
  {
   "cell_type": "code",
   "execution_count": null,
   "metadata": {},
   "outputs": [],
   "source": [
    "get_directed_edge(s1_d[0], s1_d[1])"
   ]
  },
  {
   "cell_type": "code",
   "execution_count": null,
   "metadata": {},
   "outputs": [],
   "source": [
    "s1_d_r = ds.rotate_structure(s1_d)\n",
    "matcher.get_key(s1_d), matcher.get_key(s1_d_r)"
   ]
  },
  {
   "cell_type": "code",
   "execution_count": null,
   "metadata": {},
   "outputs": [],
   "source": [
    "fig = plt.figure(figsize=(22, 14))\n",
    "(ax1, ax2) = fig.subplots(1, 2)\n",
    "\n",
    "ax1.axis('off')\n",
    "ax2.axis('off')\n",
    "\n",
    "ds.plot_struct(s1, ax=ax1, defects_only=True, normalize=True)\n",
    "ds.plot_struct(s2, ax=ax2, defects_only=True, normalize=True)\n"
   ]
  },
  {
   "attachments": {},
   "cell_type": "markdown",
   "metadata": {},
   "source": [
    "## here I am"
   ]
  },
  {
   "cell_type": "code",
   "execution_count": null,
   "metadata": {},
   "outputs": [],
   "source": [
    "fig = plt.figure(figsize=(22, 14))\n",
    "(ax1, ax2) = fig.subplots(1, 2)\n",
    "\n",
    "\n",
    "ds.plot_struct(normalize_struct_asymmetry(s1_d), ax=ax1, defects_only=True, normalize=False)\n",
    "ds.plot_struct(normalize_struct_asymmetry(s2_d), ax=ax2, defects_only=True, normalize=False)\n"
   ]
  },
  {
   "cell_type": "code",
   "execution_count": null,
   "metadata": {},
   "outputs": [],
   "source": [
    "normalize_struct_asymmetry(s1_d).sites, normalize_struct_asymmetry(s2_d).sites  "
   ]
  },
  {
   "cell_type": "code",
   "execution_count": null,
   "metadata": {},
   "outputs": [],
   "source": [
    "normalize_struct_asymmetry(s1_d).sites, normalize_struct_asymmetry(s2_d).sites  "
   ]
  },
  {
   "cell_type": "code",
   "execution_count": null,
   "metadata": {},
   "outputs": [],
   "source": [
    "# format numpy array for printing\n",
    "np.set_printoptions(precision=3, suppress=True)\n",
    "s1_d.distance_matrix"
   ]
  },
  {
   "cell_type": "code",
   "execution_count": null,
   "metadata": {},
   "outputs": [],
   "source": [
    "%matplotlib inline\n",
    "from ipywidgets import fixed, interactive\n",
    "import matplotlib.pyplot as plt\n",
    "from IPython.display import display\n",
    "from pymatgen.core.structure import Structure\n",
    "\n",
    "    \n",
    "def fp(x, y, theta, phi, initial_structure, defects_only=False):\n",
    "    t = np.array([x, y, 0])\n",
    "    assert isinstance(initial_structure, Structure), \"invalid type\"\n",
    "\n",
    "    ts = deepcopy(initial_structure)\n",
    "    if defects_only:\n",
    "        ts.remove_species([\"S\", ])\n",
    "        ts.replace_species({Element(\"Mo\"): Element(\"H\")})\n",
    "        ts.replace_species({DummySpecies(): 'O'})\n",
    "    ts.translate_sites(list(range(len(ts))), vector=t)\n",
    "    ts = ds.rotate_structure(ts, theta=-theta)\n",
    "    ts = ds.rotate_structure(ts, theta=-phi, axis=[1, 0, 0], anchor=[0, 0, 0])\n",
    "    ase_atoms = AseAtomsAdaptor.get_atoms(ts)\n",
    "    # defects = ts.get_defects(from_struct=True)\n",
    "    # coords = coord.pbc_diff(defects.frac_coords[1], defects.frac_coords[0])[0:2]\n",
    "    # angles = angles_debug(defects)\n",
    "\n",
    "    # print(coord.pbc_shortest_vectors(ts.lattice, defects.frac_coords[0], defects.frac_coords))\n",
    "    \n",
    "    for i in range(len(ts)):\n",
    "        site_i = ts[i]\n",
    "        if site_i.specie.symbol == 'H':\n",
    "            continue\n",
    "        for j in range(i+1, len(ts)):\n",
    "            site_j = ts[j]\n",
    "            if site_j.specie.symbol == 'H' or i == j:\n",
    "                continue\n",
    "            print(i, site_i.specie.symbol, j, site_j.specie.symbol, coord.pbc_diff(site_i.frac_coords, site_j.frac_coords)[0:2])\n",
    "    plt.figure(2, figsize=(5, 3))\n",
    "    ax = plt.subplot()\n",
    "    # ax.set_title(\", \".join([f\"{n}: {a:.3f}\" for n, a in zip([r\"$\\alpha$\", r\"$\\beta$\", r\"$\\gamma$\", r\"$\\sum$\"], angles)]))\n",
    "    ax.xaxis.set_visible(False)\n",
    "    ax.yaxis.set_visible(False)\n",
    "    plot_atoms(ase_atoms, ax=ax, radii=0.5, rotation=('12x, 0y, 0z'), show_unit_cell=False)\n",
    "\n",
    "interactive_plot = interactive(fp, \n",
    "                               x=(-0.5, 0.5, 0.125), y=(-0.5, 0.5, 0.125), \n",
    "                               theta=(-2*np.pi, 2*np.pi, 2/3*np.pi),\n",
    "                               phi=fixed(0),\n",
    "                            #    phi=(-np.pi, np.pi, np.pi),\n",
    "                            #    initial_structure=fixed(structA))\n",
    "                               initial_structure=fixed(s1),\n",
    "                               defects_only=fixed(True))\n",
    "output = interactive_plot.children[-1]\n",
    "output.layout.height = '300px'\n",
    "display(interactive_plot)\n"
   ]
  },
  {
   "cell_type": "code",
   "execution_count": null,
   "metadata": {},
   "outputs": [],
   "source": [
    "interactive_plot = interactive(fp, \n",
    "                               x=(-0.5, 0.5, 0.125), y=(-0.5, 0.5, 0.125), \n",
    "                               theta=(-2*np.pi, 2*np.pi, 2/3*np.pi),\n",
    "                               phi=fixed(0),\n",
    "                            #    phi=(-np.pi, np.pi, np.pi),\n",
    "                            #    initial_structure=fixed(structA))\n",
    "                               initial_structure=fixed(s2),\n",
    "                               defects_only=fixed(True))\n",
    "output = interactive_plot.children[-1]\n",
    "output.layout.height = '300px'\n",
    "display(interactive_plot)"
   ]
  },
  {
   "cell_type": "code",
   "execution_count": null,
   "metadata": {},
   "outputs": [],
   "source": [
    "np.mod([0.5, 0.7, -0.5], 1) "
   ]
  },
  {
   "cell_type": "code",
   "execution_count": null,
   "metadata": {},
   "outputs": [],
   "source": [
    "comp = SymmetryEquivalenceCheck()\n",
    "def compare_ase(_sA, _sB):\n",
    "    return comp.compare(AseAtomsAdaptor.get_atoms(_sA), AseAtomsAdaptor.get_atoms(_sB))\n"
   ]
  },
  {
   "cell_type": "code",
   "execution_count": null,
   "metadata": {},
   "outputs": [],
   "source": [
    "pairs[bad_idx][0].energy - pairs[bad_idx][1].energy"
   ]
  },
  {
   "cell_type": "code",
   "execution_count": null,
   "metadata": {},
   "outputs": [],
   "source": [
    "bad_idx = 1519\n",
    "s1, s2, s1_d, s2_d = pair2structs(pairs, bad_idx, group_pair_lens)\n",
    "    \n",
    "vs = VariableStructure(s2, s2_d.sites)\n",
    "# vs.add_replacement_defect(33, 'O')\n",
    "# for i in range(5):\n",
    "#     vs.add_replacement_defect(np.random.randint(192), 'O')\n",
    "\n",
    "fig = plt.figure(figsize=(22, 14))\n",
    "(ax1, ax2, ax3) = fig.subplots(1, 3)\n",
    "\n",
    "ax1.axis('off')\n",
    "ax2.axis('off')\n",
    "ax3.axis('off')\n",
    "\n",
    "s1 = ds.translate_structure(s1, [0, -3 * 0.125, 0])\n",
    "ds.plot_struct(s1, ax=ax1, defects_only=True, normalize=False)\n",
    "ds.plot_struct(ds.rotate_structure(s1, theta=-2*np.pi/3), ax=ax2, defects_only=True, normalize=False)\n",
    "ds.plot_struct(ds.rotate_structure(s1, theta=-4*np.pi/3), ax=ax3, defects_only=True, normalize=False)\n"
   ]
  },
  {
   "cell_type": "code",
   "execution_count": null,
   "metadata": {},
   "outputs": [],
   "source": [
    "def x_proj_fp2(s: Structure, n_turns: int=3, agg=np.sort):\n",
    "    assert len(s) == 2, \"FP2, invalid structure\"\n",
    "    return x_proj_edge(s[0], s[1], agg=agg, n_turns=n_turns)\n",
    "    \n",
    "def x_proj_fpN(s: Structure, n_turns: int=3, agg=np.sort):\n",
    "    # assert len(s) == 2, \"FP2, invalid structure\"\n",
    "    proj_dict = dict()\n",
    "    for i, site in enumerate(s.sites):\n",
    "        for j, site2 in enumerate(s.sites):\n",
    "            if i == j: continue\n",
    "            key = str(sorted([i, j]))\n",
    "            if key in proj_dict: continue\n",
    "            # print(\">> proj for: \" , s[i], s[j])\n",
    "            proj = x_proj_edge(s[i], s[j], agg=agg, n_turns=n_turns)\n",
    "            # print(key, proj)\n",
    "            proj_dict[key] = np.array(proj[0:3])\n",
    "    # print(proj_dict.keys())\n",
    "    proj_fp = np.sort(np.concatenate(list(proj_dict.values()), axis=0))\n",
    "    return proj_fp\n",
    "    \n",
    "\n",
    "def rotate_vector_x_proj(lattice, coords_start, coords_end, theta=-2*np.pi/3, n_turns=3):\n",
    "    from scipy.linalg import expm\n",
    "\n",
    "    axis = np.array([0, 0, 1])\n",
    "    theta %= 2 * np.pi\n",
    "    proj = np.zeros(n_turns)\n",
    "\n",
    "    rm = expm(np.cross(np.eye(3), axis) * theta)\n",
    "    frac_start = lattice.get_fractional_coords(coords_start)\n",
    "    for i in range(n_turns):\n",
    "        frac_end = lattice.get_fractional_coords(coords_end)\n",
    "        x_proj, y_proj, z_proj = coord.pbc_diff(frac_end, frac_start)\n",
    "        # print(\">>>\", x_proj, y_proj, z_proj, coords_start)\n",
    "        proj[i] = x_proj if x_proj >= -0.49 else 0.5\n",
    "        coords_end = ((np.dot(rm, np.array(coords_end - coords_start).T)).T + coords_start).ravel()\n",
    "    return proj\n",
    "    \n",
    "\n",
    "def x_proj_edge(site1, site2, n_turns=3, agg=np.sort):\n",
    "    length = site1.distance(site2)\n",
    "    if site1.specie.Z >= site2.specie.Z:\n",
    "        start, end = site1, site2\n",
    "    else:\n",
    "        start, end = site2, site1\n",
    "    proj = rotate_vector_x_proj(site1.lattice, start.coords, end.coords, n_turns=n_turns)\n",
    "    # if site1.specie.Z == site2.specie.Z:\n",
    "    #     proj = np.abs(proj)\n",
    "    return agg(proj)"
   ]
  },
  {
   "cell_type": "code",
   "execution_count": null,
   "metadata": {},
   "outputs": [],
   "source": [
    "s1_d.sites"
   ]
  },
  {
   "cell_type": "code",
   "execution_count": null,
   "metadata": {},
   "outputs": [],
   "source": [
    "x_proj_edge(*s1_d.sites)"
   ]
  },
  {
   "cell_type": "code",
   "execution_count": null,
   "metadata": {},
   "outputs": [],
   "source": [
    "from pymatgen.core.lattice import Lattice\n",
    "a0 = Structure(Lattice.hexagonal(2, 0.5), ['O', 'H'], [[0, 0, 0], [0.5, 0.0, 0]], to_unit_cell=True)\n",
    "x_proj_edge(*a0.sites)"
   ]
  },
  {
   "cell_type": "code",
   "execution_count": null,
   "metadata": {},
   "outputs": [],
   "source": [
    "ds.plot_struct(vs * (2, 2, 1), defects_only=True, normalize=False)\n"
   ]
  },
  {
   "cell_type": "code",
   "execution_count": null,
   "metadata": {},
   "outputs": [],
   "source": [
    "vs2 = ds.rotate_structure(vs, theta=2 * np.pi / 3)\n",
    "ds.plot_struct(vs2 * (2, 2, 1), defects_only=True, normalize=False)"
   ]
  },
  {
   "cell_type": "code",
   "execution_count": null,
   "metadata": {},
   "outputs": [],
   "source": [
    "def defect_distances(struct, specie):\n",
    "    sd = struct * (2, 2, 1)\n",
    "    sd.remove_species([\"S\", \"H\", \"Mo\"])\n",
    "    sd.replace_species({DummySpecies(): 'O'})\n",
    "    defect = [d for d in sd.sites if d.specie.symbol == specie][0]\n",
    "    distances = []\n",
    "    for s in sd.sites:\n",
    "        print(s.specie, defect.distance_and_image_from_frac_coords(s.frac_coords)[0])\n",
    "    return sd.distance_matrix\n",
    "\n",
    "dm0 = defect_distances(vs, 'O')\n"
   ]
  },
  {
   "cell_type": "code",
   "execution_count": null,
   "metadata": {},
   "outputs": [],
   "source": []
  },
  {
   "cell_type": "code",
   "execution_count": null,
   "metadata": {},
   "outputs": [],
   "source": [
    "dm1= defect_distances(vs2, 'O')\n"
   ]
  },
  {
   "cell_type": "code",
   "execution_count": null,
   "metadata": {},
   "outputs": [],
   "source": []
  },
  {
   "cell_type": "code",
   "execution_count": null,
   "metadata": {},
   "outputs": [],
   "source": [
    "fig = plt.figure(figsize=(22, 14))\n",
    "(ax1, ax2) = fig.subplots(1, 2)\n",
    "\n",
    "ax1.axis('off')\n",
    "ax2.axis('off')\n",
    "\n",
    "ds.plot_struct(vs, ax=ax1, defects_only=True, normalize=False)\n",
    "ds.plot_struct(vs2, ax=ax2, defects_only=True, normalize=False)"
   ]
  },
  {
   "cell_type": "code",
   "execution_count": null,
   "metadata": {},
   "outputs": [],
   "source": [
    "import networkx as nx\n",
    "\n",
    "G1 = nx.from_numpy_matrix(dm0, create_using=nx.Graph)\n",
    "G2 = nx.from_numpy_matrix(dm1, create_using=nx.Graph)\n",
    "\n",
    "edge_comp = iso.numerical_edge_match(\"weight\", 0.0)\n",
    "node_comp = iso.numerical_node_match('Z', 0)\n",
    "nx.is_isomorphic(G1, G2, edge_match=edge_comp, node_match=node_comp)"
   ]
  },
  {
   "cell_type": "code",
   "execution_count": null,
   "metadata": {},
   "outputs": [],
   "source": []
  }
 ],
 "metadata": {
  "kernelspec": {
   "display_name": "mat",
   "language": "python",
   "name": "python3"
  },
  "language_info": {
   "codemirror_mode": {
    "name": "ipython",
    "version": 3
   },
   "file_extension": ".py",
   "mimetype": "text/x-python",
   "name": "python",
   "nbconvert_exporter": "python",
   "pygments_lexer": "ipython3",
   "version": "3.10.7"
  },
  "orig_nbformat": 4,
  "vscode": {
   "interpreter": {
    "hash": "4dfbbeefb8d3eef9573ad66d3c6a8158411b36d164c4fe21e04b916e826d86da"
   }
  }
 },
 "nbformat": 4,
 "nbformat_minor": 2
}
